{
 "cells": [
  {
   "cell_type": "code",
   "execution_count": 1,
   "metadata": {
    "collapsed": true
   },
   "outputs": [],
   "source": [
    "import os\n",
    "import json\n",
    "import re\n",
    "from docx import Document\n",
    "from docx.shared import RGBColor"
   ]
  },
  {
   "cell_type": "code",
   "execution_count": 52,
   "metadata": {
    "collapsed": true
   },
   "outputs": [],
   "source": [
    "def get_table_dict(key, dic,tmp_list):\n",
    "    if not isinstance(dic, dict) :  # 对传入数据进行格式校验\n",
    "        return 'argv[1] not an dict '\n",
    "    for key_str in dic.keys():\n",
    "        #print(key_str)\n",
    "        #print(dic[key_str])\n",
    "        if key in key_str:\n",
    "            tmp_list.append(dic[key_str])  # 传入数据存在则存入tmp_list\n",
    "        else:\n",
    "            #for value in dic[key_str]:  # 传入数据不符合则对其value值进行遍历\n",
    "            if isinstance(dic[key_str], dict):\n",
    "                get_table_dict(key, dic[key_str],tmp_list)  # 传入数据的value值是字典，则直接调用自身\n",
    "    return tmp_list\n"
   ]
  },
  {
   "cell_type": "code",
   "execution_count": 53,
   "metadata": {
    "collapsed": true
   },
   "outputs": [],
   "source": [
    "def check_str(str1,str2):\n",
    "    res1=[]\n",
    "    str1_list=str1\n",
    "    for str_tmp in str1_list:\n",
    "        if str_tmp in str2:\n",
    "            res1.append(0)\n",
    "        else:\n",
    "            res1.append(1)\n",
    "    return res1\n"
   ]
  },
  {
   "cell_type": "code",
   "execution_count": 54,
   "metadata": {
    "collapsed": true
   },
   "outputs": [],
   "source": [
    "def get_target_value(key, dic, tmp_list):\n",
    "    \"\"\"\n",
    "    :param key: 目标key值\n",
    "    :param dic: JSON数据\n",
    "    :param tmp_list: 用于存储获取的数据\n",
    "    :return: list\n",
    "    \"\"\"\n",
    "    if not isinstance(dic, dict) or not isinstance(tmp_list, list):  # 对传入数据进行格式校验\n",
    "        return 'argv[1] not an dict or argv[-1] not an list '\n",
    "\n",
    "    if key in dic.keys():\n",
    "        tmp_list.append(dic[key])  # 传入数据存在则存入tmp_list\n",
    "    else:\n",
    "        for value in dic.values():  # 传入数据不符合则对其value值进行遍历\n",
    "            if isinstance(value, dict):\n",
    "                get_target_value(key, value, tmp_list)  # 传入数据的value值是字典，则直接调用自身\n",
    "            elif isinstance(value, (list, tuple)):\n",
    "                _get_value(key, value, tmp_list)  # 传入数据的value值是列表或者元组，则调用_get_value\n",
    "    return tmp_list\n",
    "\n",
    "def _get_value(key, val, tmp_list):\n",
    "    for val_ in val:\n",
    "        if isinstance(val_, dict):\n",
    "            get_target_value(key, val_, tmp_list)  # 传入数据的value值是字典，则调用get_target_value\n",
    "        elif isinstance(val_, (list, tuple)):\n",
    "            _get_value(key, val_, tmp_list)   # 传入数据的value值是列表或者元组，则调用自身\n"
   ]
  },
  {
   "cell_type": "code",
   "execution_count": 67,
   "metadata": {
    "collapsed": true
   },
   "outputs": [],
   "source": [
    "def main(prog_name='程序名称(sql_to_csv)'):\n",
    "    \"\"\"取出操作字段、条件字段、排序字段、列名这些字段的key和value\"\"\"\n",
    "    path_dir='../../../project_data/programs_json/'\n",
    "    file_name=path_dir+prog_name+'.json'\n",
    "    design_file = open(file_name, encoding='utf-8')  # 打开详细设计的json文件\n",
    "    new_design_file = json.load(design_file)\n",
    "    a = str(new_design_file)\n",
    "    ret = re.findall(r'Table--[\\u4e00-\\u9fa5]+\\((.*?)\\)', a)  # 提取table下面的表名\n",
    "\n",
    "    path = r'../../../project_data/tables_json/'  # 数据库所在文件位置\n",
    "    files = os.listdir(path)  # 打开数据库所有目录列表\n",
    "    data = []\n",
    "    for name in ret:  # 遍历表名\n",
    "        new_name = name + '.json'  # 将表名构造成json文件格式\n",
    "        if new_name in files:  # 判断如果详细设计的表名和数据库的表名相等\n",
    "            data_file = open(path+new_name, encoding='utf-8')  # 打开名字相等的json文件\n",
    "            #global new_data_file  # 全局变量\n",
    "            new_data_file = json.load(data_file)\n",
    "            data.append(new_data_file)\n",
    "    #print(data)\n",
    "    \n",
    "    for m,table_name in enumerate(ret):\n",
    "        table_dict=get_table_dict(table_name,new_design_file,[])[0]\n",
    "        #print(table_dict)\n",
    "        \"\"\"取出操作字段、条件字段、排序字段、列名这些字段的key和value\"\"\"\n",
    "        info1=get_target_value('操作字段',table_dict,[])[0]\n",
    "        info2=get_target_value('条件字段',table_dict,[])[0]\n",
    "        info3=get_target_value('排序字段',table_dict,[])[0]\n",
    "    \n",
    "        col_num=get_target_value('序号',table_dict,[])[0]  # 序号\n",
    "        do_type=get_target_value('操作类型',table_dict,[])[0]  # 操作类型\n",
    "        remark=get_target_value('备注',table_dict,[])[0]  # 备注\n",
    "        \n",
    "        data_info=' '.join(list(get_target_value('列名',data[m],[])[0].values()))\n",
    "        \n",
    "        print(data_info)\n",
    "        print(info1)\n",
    "        f = Document()  # 创建table写入\n",
    "        f.add_paragraph('表名: '+ table_name)\n",
    "        table = f.add_table(len(col_num)+1, 6)\n",
    "        for i in range(len(col_num)):\n",
    "            #print(col_num['序号' + str(i)])\n",
    "            #print(do_type['操作类型' + str(i)])\n",
    "            print('表名:'+table_name)\n",
    "            print('操作字段:'+info1['操作字段' + str(i)])\n",
    "            print('条件字段:'+info2['条件字段' + str(i)])\n",
    "            print('排序字段:'+info3['排序字段' + str(i)])\n",
    "            #print(remark['备注' + str(i)])\n",
    "            print('data_info:'+data_info)\n",
    "            \n",
    "            oper_str=(info1['操作字段' + str(i)]).split(' ')\n",
    "            print(oper_str)\n",
    "            oper_result=check_str(oper_str,data_info)\n",
    "            where_str=(info2['条件字段' + str(i)]).split(' ')\n",
    "            where_result=check_str(where_str,data_info)\n",
    "            order_str=(info3['排序字段' + str(i)]).split(' ')\n",
    "            order_result=check_str(order_str,data_info)\n",
    "            print(oper_result,where_result,order_result)\n",
    "            if  err_count=oper_result.count(1) + where_result.count(1) +  order_result.count(1):\n",
    "            #    table = table.add_row(1)\n",
    "            for int_ in range(len(oper_result)):\n",
    "                if oper_result[int_] == 1:\n",
    "                    cell=table.cell(i+1,2)\n",
    "                    cell.add_paragraph(oper_str[int_])  \n",
    "            for int_ in range(len(where_result)):\n",
    "                if where_result[int_] == 1:\n",
    "                    cell=table.cell(i+1,3)\n",
    "                    cell.add_paragraph(where_str[int_])  \n",
    "            for int_ in range(len(order_result)):\n",
    "                if order_result[int_] == 1:\n",
    "                    cell=table.cell(i+1,4)\n",
    "                    cell.add_paragraph(order_str[int_])  \n",
    "                    \n",
    "\n",
    "    #print(ret1,ret2,ret3)\n",
    "    #str_he1=''\n",
    "    #for m in range(len(error_val)):\n",
    "    #    str_he1=str_he1+'\\n'+error_val[m]\n",
    "    #table.cell(1,2).paragraphs[0].add_run(str_he1).font.color.rgb =RGBColor(0xff, 0x00, 0x00)\n",
    "\n",
    "    f.save('check.docx')"
   ]
  },
  {
   "cell_type": "code",
   "execution_count": null,
   "metadata": {
    "collapsed": true
   },
   "outputs": [],
   "source": []
  },
  {
   "cell_type": "code",
   "execution_count": 68,
   "metadata": {
    "scrolled": false
   },
   "outputs": [
    {
     "name": "stdout",
     "output_type": "stream",
     "text": [
      "organ_code oper_code retailer_code trade_date trade_time acct_serial timing_buy_agree_code ta_code prod_code per_buy_amt per_buy_date period_type period_length buy_times buy_times_postpone handled_times fail_handled_times sum_amt next_handle_date cust_mgr_code channel_no valid_status duration_period host_note host_code\n",
      "{'操作字段0': 'organ_code oper_code retailer_code ta_code timing_buy_agree_code prod_code per_buy_amt per_buy_date period_type period_length buy_times buy_times_postpone handled_times fail_handled_times sum_amt cust_mgr_code', '操作字段1': 'retailer_code ta_code', '操作字段2': 'cust_mgr_code', '操作字段3': '', '操作字段4': ''}\n",
      "表名:gf_prod_timing_buy_note\n",
      "操作字段:organ_code oper_code retailer_code ta_code timing_buy_agree_code prod_code per_buy_amt per_buy_date period_type period_length buy_times buy_times_postpone handled_times fail_handled_times sum_amt cust_mgr_code\n",
      "条件字段:next_handle_date valid_status\n",
      "排序字段:ta_code\n",
      "data_info:organ_code oper_code retailer_code trade_date trade_time acct_serial timing_buy_agree_code ta_code prod_code per_buy_amt per_buy_date period_type period_length buy_times buy_times_postpone handled_times fail_handled_times sum_amt next_handle_date cust_mgr_code channel_no valid_status duration_period host_note host_code\n",
      "['organ_code', 'oper_code', 'retailer_code', 'ta_code', 'timing_buy_agree_code', 'prod_code', 'per_buy_amt', 'per_buy_date', 'period_type', 'period_length', 'buy_times', 'buy_times_postpone', 'handled_times', 'fail_handled_times', 'sum_amt', 'cust_mgr_code']\n",
      "[0, 0, 0, 0, 0, 0, 0, 0, 0, 0, 0, 0, 0, 0, 0, 0] [0, 0] [0]\n",
      "表名:gf_prod_timing_buy_note\n",
      "操作字段:retailer_code ta_code\n",
      "条件字段:next_handle_date valid_status\n",
      "排序字段:\n",
      "data_info:organ_code oper_code retailer_code trade_date trade_time acct_serial timing_buy_agree_code ta_code prod_code per_buy_amt per_buy_date period_type period_length buy_times buy_times_postpone handled_times fail_handled_times sum_amt next_handle_date cust_mgr_code channel_no valid_status duration_period host_note host_code\n",
      "['retailer_code', 'ta_code']\n",
      "[0, 0] [0, 0] [0]\n",
      "表名:gf_prod_timing_buy_note\n",
      "操作字段:cust_mgr_code\n",
      "条件字段:retailer_code ta_code\n",
      "排序字段:\n",
      "data_info:organ_code oper_code retailer_code trade_date trade_time acct_serial timing_buy_agree_code ta_code prod_code per_buy_amt per_buy_date period_type period_length buy_times buy_times_postpone handled_times fail_handled_times sum_amt next_handle_date cust_mgr_code channel_no valid_status duration_period host_note host_code\n",
      "['cust_mgr_code']\n",
      "[0] [0, 0] [0]\n",
      "表名:gf_prod_timing_buy_note\n",
      "操作字段:\n",
      "条件字段:retailer_code ta_code\n",
      "排序字段:\n",
      "data_info:organ_code oper_code retailer_code trade_date trade_time acct_serial timing_buy_agree_code ta_code prod_code per_buy_amt per_buy_date period_type period_length buy_times buy_times_postpone handled_times fail_handled_times sum_amt next_handle_date cust_mgr_code channel_no valid_status duration_period host_note host_code\n",
      "['']\n",
      "[0] [0, 0] [0]\n",
      "表名:gf_prod_timing_buy_note\n",
      "操作字段:\n",
      "条件字段:\n",
      "排序字段:\n",
      "data_info:organ_code oper_code retailer_code trade_date trade_time acct_serial timing_buy_agree_code ta_code prod_code per_buy_amt per_buy_date period_type period_length buy_times buy_times_postpone handled_times fail_handled_times sum_amt next_handle_date cust_mgr_code channel_no valid_status duration_period host_note host_code\n",
      "['']\n",
      "[0] [0] [0]\n",
      "in_prod_code transf_status organ_code oper_code trade_date acct_serial\n",
      "{'操作字段0': 'ta_code sum_quot sum_amt total_quot frezze_quot', '操作字段1': 'total_quot', '操作字段2': '', '操作字段3': ''}\n",
      "表名:ta_prod_asset_list\n",
      "操作字段:ta_code sum_quot sum_amt total_quot frezze_quot\n",
      "条件字段:ta_code organ_code\n",
      "排序字段:ta_code\n",
      "data_info:in_prod_code transf_status organ_code oper_code trade_date acct_serial\n",
      "['ta_code', 'sum_quot', 'sum_amt', 'total_quot', 'frezze_quot']\n",
      "[1, 1, 1, 1, 1] [1, 0] [1]\n",
      "表名:ta_prod_asset_list\n",
      "操作字段:total_quot\n",
      "条件字段:ta_code organ_code\n",
      "排序字段:\n",
      "data_info:in_prod_code transf_status organ_code oper_code trade_date acct_serial\n",
      "['total_quot']\n",
      "[1] [1, 0] [0]\n",
      "表名:ta_prod_asset_list\n",
      "操作字段:\n",
      "条件字段:retailer_code ta_code\n",
      "排序字段:\n",
      "data_info:in_prod_code transf_status organ_code oper_code trade_date acct_serial\n",
      "['']\n",
      "[0] [1, 1] [0]\n",
      "表名:ta_prod_asset_list\n",
      "操作字段:\n",
      "条件字段:\n",
      "排序字段:\n",
      "data_info:in_prod_code transf_status organ_code oper_code trade_date acct_serial\n",
      "['']\n",
      "[0] [0] [0]\n"
     ]
    }
   ],
   "source": [
    "main()"
   ]
  },
  {
   "cell_type": "code",
   "execution_count": null,
   "metadata": {
    "collapsed": true
   },
   "outputs": [],
   "source": []
  },
  {
   "cell_type": "code",
   "execution_count": null,
   "metadata": {
    "collapsed": true
   },
   "outputs": [],
   "source": []
  }
 ],
 "metadata": {
  "kernelspec": {
   "display_name": "Python 3",
   "language": "python",
   "name": "python3"
  },
  "language_info": {
   "codemirror_mode": {
    "name": "ipython",
    "version": 3
   },
   "file_extension": ".py",
   "mimetype": "text/x-python",
   "name": "python",
   "nbconvert_exporter": "python",
   "pygments_lexer": "ipython3",
   "version": "3.6.3"
  }
 },
 "nbformat": 4,
 "nbformat_minor": 2
}
